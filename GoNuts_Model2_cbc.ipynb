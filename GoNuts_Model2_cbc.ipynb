{
 "cells": [
  {
   "cell_type": "markdown",
   "metadata": {
    "slideshow": {
     "slide_type": "slide"
    }
   },
   "source": [
    "# Progetto GoNuts - Decision Making\n",
    "## Mixed Linear programming\n",
    "### Model 2 - with Cbc optimizer"
   ]
  },
  {
   "cell_type": "markdown",
   "metadata": {
    "slideshow": {
     "slide_type": "slide"
    }
   },
   "source": [
    " - Objective Function to minimize:\n",
    "\n",
    "$$ z = 21xgEth + 22,5xkEth + 22,5xgTan + 24,5xkTan + 23xgNig + 25,5xkNig + 1500yEth + 2000yTan + 3000yNig $$\n",
    "\n",
    " - Compact formula:\n",
    "\n",
    "$$ z = \\sum_{i} \\sum_{j} c_{ij}x_{ij} + \\sum_{i} f_{i}y_{i}$$"
   ]
  },
  {
   "cell_type": "code",
   "execution_count": 2,
   "metadata": {
    "ExecuteTime": {
     "end_time": "2022-01-25T12:24:40.586000+01:00",
     "start_time": "2022-01-25T11:24:24.794Z"
    },
    "slideshow": {
     "slide_type": "slide"
    }
   },
   "outputs": [
    {
     "name": "stderr",
     "output_type": "stream",
     "text": [
      "\u001b[32m\u001b[1m    Updating\u001b[22m\u001b[39m registry at `~/opt/anaconda3/share/julia/registries/General.toml`\n",
      "\u001b[32m\u001b[1m   Resolving\u001b[22m\u001b[39m package versions...\n",
      "\u001b[32m\u001b[1m  No Changes\u001b[22m\u001b[39m to `~/opt/anaconda3/share/julia/environments/anaconda3/Project.toml`\n",
      "\u001b[32m\u001b[1m  No Changes\u001b[22m\u001b[39m to `~/opt/anaconda3/share/julia/environments/anaconda3/Manifest.toml`\n",
      "\u001b[32m\u001b[1mPrecompiling\u001b[22m\u001b[39m project...\n",
      "\u001b[32m  ✓ \u001b[39m\u001b[90mCgl_jll\u001b[39m\n",
      "\u001b[32m  ✓ \u001b[39m\u001b[90mCbc_jll\u001b[39m\n",
      "\u001b[32m  ✓ \u001b[39mCbc\n",
      "  3 dependencies successfully precompiled in 7 seconds (58 already precompiled, 2 skipped during auto due to previous errors)\n"
     ]
    }
   ],
   "source": [
    "# Solver used\n",
    "using Pkg\n",
    "Pkg.add(\"Cbc\")\n",
    "using JuMP\n",
    "using Cbc"
   ]
  },
  {
   "cell_type": "code",
   "execution_count": 3,
   "metadata": {
    "ExecuteTime": {
     "end_time": "2022-01-25T12:24:54.659000+01:00",
     "start_time": "2022-01-25T11:24:53.366Z"
    }
   },
   "outputs": [
    {
     "data": {
      "text/plain": [
       "A JuMP Model\n",
       "Feasibility problem with:\n",
       "Variables: 0\n",
       "Model mode: AUTOMATIC\n",
       "CachingOptimizer state: EMPTY_OPTIMIZER\n",
       "Solver name: COIN Branch-and-Cut (Cbc)"
      ]
     },
     "execution_count": 3,
     "metadata": {},
     "output_type": "execute_result"
    }
   ],
   "source": [
    "# Define Model\n",
    "m = Model(Cbc.Optimizer)"
   ]
  },
  {
   "cell_type": "code",
   "execution_count": 4,
   "metadata": {
    "ExecuteTime": {
     "end_time": "2022-01-25T12:25:09.552000+01:00",
     "start_time": "2022-01-25T11:25:06.654Z"
    },
    "scrolled": true
   },
   "outputs": [
    {
     "data": {
      "text/latex": [
       "$$ yNig $$"
      ],
      "text/plain": [
       "yNig"
      ]
     },
     "execution_count": 4,
     "metadata": {},
     "output_type": "execute_result"
    }
   ],
   "source": [
    "# List of variables\n",
    "#Numeric\n",
    "@variable(m, xgEth >=0)\n",
    "@variable(m, xkEth >=0)\n",
    "@variable(m, xgTan >=0)\n",
    "@variable(m, xkTan >=0)\n",
    "@variable(m, xgNig >=0)\n",
    "@variable(m, xkNig >=0)\n",
    "#Binary\n",
    "@variable(m, yEth, Bin)\n",
    "@variable(m, yTan, Bin)\n",
    "@variable(m, yNig, Bin)"
   ]
  },
  {
   "cell_type": "code",
   "execution_count": 5,
   "metadata": {
    "ExecuteTime": {
     "end_time": "2022-01-25T12:25:15.778000+01:00",
     "start_time": "2022-01-25T11:25:14.223Z"
    }
   },
   "outputs": [
    {
     "data": {
      "text/latex": [
       "constraint3 : $ xgNig + xkNig \\leq 750.0 $"
      ],
      "text/plain": [
       "constraint3 : xgNig + xkNig ≤ 750.0"
      ]
     },
     "execution_count": 5,
     "metadata": {},
     "output_type": "execute_result"
    }
   ],
   "source": [
    "# List of Costrains for Plant Capacity\n",
    "@constraint(m, constraint1, xgEth + xkEth <= 425)\n",
    "@constraint(m, constraint2, xgTan + xkTan <= 400)\n",
    "@constraint(m, constraint3, xgNig + xkNig <= 750)"
   ]
  },
  {
   "cell_type": "code",
   "execution_count": 6,
   "metadata": {
    "ExecuteTime": {
     "end_time": "2022-01-25T12:25:18.755000+01:00",
     "start_time": "2022-01-25T11:25:18.205Z"
    }
   },
   "outputs": [
    {
     "data": {
      "text/latex": [
       "constraint5 : $ xkEth + xkTan + xkNig \\geq 450.0 $"
      ],
      "text/plain": [
       "constraint5 : xkEth + xkTan + xkNig ≥ 450.0"
      ]
     },
     "execution_count": 6,
     "metadata": {},
     "output_type": "execute_result"
    }
   ],
   "source": [
    "# List of Costrains for Product Demand\n",
    "@constraint(m, constraint4, xgEth + xgTan + xgNig  >= 550)\n",
    "@constraint(m, constraint5, xkEth + xkTan + xkNig  >= 450)"
   ]
  },
  {
   "cell_type": "code",
   "execution_count": 7,
   "metadata": {
    "ExecuteTime": {
     "end_time": "2022-01-25T12:25:21.219000+01:00",
     "start_time": "2022-01-25T11:25:21.065Z"
    }
   },
   "outputs": [
    {
     "data": {
      "text/latex": [
       "constraint8 : $ xgNig + xkNig - 750 yNig \\leq 0.0 $"
      ],
      "text/plain": [
       "constraint8 : xgNig + xkNig - 750 yNig ≤ 0.0"
      ]
     },
     "execution_count": 7,
     "metadata": {},
     "output_type": "execute_result"
    }
   ],
   "source": [
    "# List of Constrains for Production Plants\n",
    "@constraint(m, constraint6, xgEth + xkEth -425yEth <= 0)\n",
    "@constraint(m, constraint7, xgTan + xkTan -400yTan <= 0)\n",
    "@constraint(m, constraint8, xgNig + xkNig -750yNig <= 0)"
   ]
  },
  {
   "cell_type": "code",
   "execution_count": 8,
   "metadata": {
    "ExecuteTime": {
     "end_time": "2022-01-25T12:25:25.769000+01:00",
     "start_time": "2022-01-25T11:25:24.234Z"
    }
   },
   "outputs": [
    {
     "data": {
      "text/latex": [
       "$$ 21 xgEth + 22.5 xkEth + 22.5 xgTan + 24.5 xkTan + 23 xgNig + 25.5 xkNig + 1500 yEth + 2000 yTan + 3000 yNig $$"
      ],
      "text/plain": [
       "21 xgEth + 22.5 xkEth + 22.5 xgTan + 24.5 xkTan + 23 xgNig + 25.5 xkNig + 1500 yEth + 2000 yTan + 3000 yNig"
      ]
     },
     "execution_count": 8,
     "metadata": {},
     "output_type": "execute_result"
    }
   ],
   "source": [
    "# Set the Objective Function\n",
    "@objective(m, Min, 21xgEth + 22.5xkEth + 22.5xgTan + 24.5xkTan + 23xgNig + 25.5xkNig + 1500yEth + 2000yTan + 3000yNig)"
   ]
  },
  {
   "cell_type": "code",
   "execution_count": 9,
   "metadata": {
    "ExecuteTime": {
     "end_time": "2022-01-25T12:25:29.888000+01:00",
     "start_time": "2022-01-25T11:25:28.886Z"
    }
   },
   "outputs": [
    {
     "data": {
      "text/latex": [
       "$$ \\begin{aligned}\n",
       "\\min\\quad & 21 xgEth + 22.5 xkEth + 22.5 xgTan + 24.5 xkTan + 23 xgNig + 25.5 xkNig + 1500 yEth + 2000 yTan + 3000 yNig\\\\\n",
       "\\text{Subject to} \\quad & xgEth + xgTan + xgNig \\geq 550.0\\\\\n",
       " & xkEth + xkTan + xkNig \\geq 450.0\\\\\n",
       " & xgEth + xkEth \\leq 425.0\\\\\n",
       " & xgTan + xkTan \\leq 400.0\\\\\n",
       " & xgNig + xkNig \\leq 750.0\\\\\n",
       " & xgEth + xkEth - 425 yEth \\leq 0.0\\\\\n",
       " & xgTan + xkTan - 400 yTan \\leq 0.0\\\\\n",
       " & xgNig + xkNig - 750 yNig \\leq 0.0\\\\\n",
       " & xgEth \\geq 0.0\\\\\n",
       " & xkEth \\geq 0.0\\\\\n",
       " & xgTan \\geq 0.0\\\\\n",
       " & xkTan \\geq 0.0\\\\\n",
       " & xgNig \\geq 0.0\\\\\n",
       " & xkNig \\geq 0.0\\\\\n",
       " & yEth \\in \\{0, 1\\}\\\\\n",
       " & yTan \\in \\{0, 1\\}\\\\\n",
       " & yNig \\in \\{0, 1\\}\\\\\n",
       "\\end{aligned} $$"
      ]
     },
     "metadata": {},
     "output_type": "display_data"
    }
   ],
   "source": [
    "# Print the prepared optimization model\n",
    "print(m)"
   ]
  },
  {
   "cell_type": "code",
   "execution_count": 10,
   "metadata": {
    "ExecuteTime": {
     "end_time": "2022-01-25T12:25:36.576000+01:00",
     "start_time": "2022-01-25T11:25:34.173Z"
    }
   },
   "outputs": [
    {
     "name": "stdout",
     "output_type": "stream",
     "text": [
      "Welcome to the CBC MILP Solver \n",
      "Version: 2.10.5 \n",
      "Build Date: Dec  4 2021 \n",
      "\n",
      "command line - Cbc_C_Interface -solve -quit (default strategy 1)\n",
      "Continuous objective value is 26650 - 0.00 seconds\n",
      "Cgl0003I 0 fixed, 0 tightened bounds, 3 strengthened rows, 0 substitutions\n",
      "Cgl0004I processed model has 5 rows, 9 columns (3 integer (3 of which binary)) and 15 elements\n",
      "Cbc0038I Initial state - 2 integers unsatisfied sum - 0.329167\n",
      "Cbc0038I Pass   1: suminf.    0.00000 (0) obj. 27350 iterations 2\n",
      "Cbc0038I Solution found of 27350\n",
      "Cbc0038I Relaxing continuous gives 27350\n",
      "Cbc0038I Before mini branch and bound, 1 integers at bound fixed and 3 continuous\n",
      "Cbc0038I Full problem 5 rows 9 columns, reduced to 2 rows 3 columns\n",
      "Cbc0038I Mini branch and bound improved solution from 27350 to 27350 (0.00 seconds)\n",
      "Cbc0038I Round again with cutoff of 27280\n",
      "Cbc0038I Reduced cost fixing fixed 1 variables on major pass 2\n",
      "Cbc0038I Pass   2: suminf.    0.02333 (1) obj. 27280 iterations 1\n",
      "Cbc0038I Pass   3: suminf.    0.23333 (1) obj. 26650 iterations 1\n",
      "Cbc0038I Pass   4: suminf.    0.23333 (1) obj. 26650 iterations 0\n",
      "Cbc0038I Pass   5: suminf.    0.23333 (1) obj. 26650 iterations 0\n",
      "Cbc0038I Pass   6: suminf.    0.02333 (1) obj. 27280 iterations 1\n",
      "Cbc0038I Pass   7: suminf.    0.23333 (1) obj. 26650 iterations 1\n",
      "Cbc0038I Pass   8: suminf.    0.02333 (1) obj. 27280 iterations 1\n",
      "Cbc0038I Pass   9: suminf.    0.02333 (1) obj. 27280 iterations 0\n",
      "Cbc0038I Pass  10: suminf.    0.02333 (1) obj. 27280 iterations 0\n",
      "Cbc0038I Pass  11: suminf.    0.02333 (1) obj. 27280 iterations 0\n",
      "Cbc0038I Pass  12: suminf.    0.02333 (1) obj. 27280 iterations 0\n",
      "Cbc0038I Pass  13: suminf.    0.38083 (1) obj. 27280 iterations 4\n",
      "Cbc0038I Pass  14: suminf.    0.23333 (1) obj. 26837.5 iterations 1\n",
      "Cbc0038I Pass  15: suminf.    0.38083 (1) obj. 27280 iterations 1\n",
      "Cbc0038I Pass  16: suminf.    0.38083 (1) obj. 27280 iterations 0\n",
      "Cbc0038I Pass  17: suminf.    0.23333 (1) obj. 26837.5 iterations 1\n",
      "Cbc0038I Pass  18: suminf.    0.38083 (1) obj. 27280 iterations 1\n",
      "Cbc0038I Pass  19: suminf.    0.23333 (1) obj. 26650 iterations 3\n",
      "Cbc0038I Pass  20: suminf.    0.02333 (1) obj. 27280 iterations 1\n",
      "Cbc0038I Pass  21: suminf.    0.23333 (1) obj. 26650 iterations 1\n",
      "Cbc0038I Pass  22: suminf.    0.02333 (1) obj. 27280 iterations 1\n",
      "Cbc0038I Pass  23: suminf.    0.23333 (1) obj. 26650 iterations 1\n",
      "Cbc0038I Pass  24: suminf.    0.38083 (1) obj. 27280 iterations 5\n",
      "Cbc0038I Pass  25: suminf.    0.23333 (1) obj. 26837.5 iterations 1\n",
      "Cbc0038I Pass  26: suminf.    0.38083 (1) obj. 27280 iterations 1\n",
      "Cbc0038I Pass  27: suminf.    0.23333 (1) obj. 26837.5 iterations 1\n",
      "Cbc0038I Pass  28: suminf.    0.38083 (1) obj. 27280 iterations 1\n",
      "Cbc0038I Pass  29: suminf.    0.23333 (1) obj. 26837.5 iterations 1\n",
      "Cbc0038I Pass  30: suminf.    0.23333 (1) obj. 26837.5 iterations 0\n",
      "Cbc0038I Pass  31: suminf.    0.23333 (1) obj. 26837.5 iterations 0\n",
      "Cbc0038I No solution found this major pass\n",
      "Cbc0038I Before mini branch and bound, 1 integers at bound fixed and 2 continuous\n",
      "Cbc0038I Full problem 5 rows 9 columns, reduced to 4 rows 5 columns\n",
      "Cbc0038I Mini branch and bound did not improve solution (0.00 seconds)\n",
      "Cbc0038I After 0.00 seconds - Feasibility pump exiting with objective of 27350 - took 0.00 seconds\n",
      "Cbc0012I Integer solution of 27350 found by feasibility pump after 0 iterations and 0 nodes (0.00 seconds)\n",
      "Cbc0038I Full problem 5 rows 9 columns, reduced to 5 rows 8 columns\n",
      "Cbc0031I 4 added rows had average density of 2.25\n",
      "Cbc0013I At root node, 5 cuts changed objective from 26650 to 27350 in 2 passes\n",
      "Cbc0014I Cut generator 0 (Probing) - 5 row cuts average 2.0 elements, 0 column cuts (0 active)  in 0.000 seconds - new frequency is 1\n",
      "Cbc0014I Cut generator 1 (Gomory) - 3 row cuts average 2.3 elements, 0 column cuts (0 active)  in 0.000 seconds - new frequency is 1\n",
      "Cbc0014I Cut generator 2 (Knapsack) - 0 row cuts average 0.0 elements, 0 column cuts (0 active)  in 0.000 seconds - new frequency is -100\n",
      "Cbc0014I Cut generator 3 (Clique) - 0 row cuts average 0.0 elements, 0 column cuts (0 active)  in 0.000 seconds - new frequency is -100\n",
      "Cbc0014I Cut generator 4 (MixedIntegerRounding2) - 0 row cuts average 0.0 elements, 0 column cuts (0 active)  in 0.000 seconds - new frequency is -100\n",
      "Cbc0014I Cut generator 5 (FlowCover) - 0 row cuts average 0.0 elements, 0 column cuts (0 active)  in 0.000 seconds - new frequency is -100\n",
      "Cbc0014I Cut generator 6 (TwoMirCuts) - 3 row cuts average 2.3 elements, 0 column cuts (0 active)  in 0.000 seconds - new frequency is 1\n",
      "Cbc0001I Search completed - best objective 27350, took 6 iterations and 0 nodes (0.01 seconds)\n",
      "Cbc0035I Maximum depth 0, 1 variables fixed on reduced cost\n",
      "Cuts at root node changed objective from 26650 to 27350\n",
      "Probing was tried 2 times and created 5 cuts of which 0 were active after adding rounds of cuts (0.000 seconds)\n",
      "Gomory was tried 2 times and created 3 cuts of which 0 were active after adding rounds of cuts (0.000 seconds)\n",
      "Knapsack was tried 2 times and created 0 cuts of which 0 were active after adding rounds of cuts (0.000 seconds)\n",
      "Clique was tried 2 times and created 0 cuts of which 0 were active after adding rounds of cuts (0.000 seconds)\n",
      "MixedIntegerRounding2 was tried 2 times and created 0 cuts of which 0 were active after adding rounds of cuts (0.000 seconds)\n",
      "FlowCover was tried 2 times and created 0 cuts of which 0 were active after adding rounds of cuts (0.000 seconds)\n",
      "TwoMirCuts was tried 2 times and created 3 cuts of which 0 were active after adding rounds of cuts (0.000 seconds)\n",
      "ZeroHalf was tried 1 times and created 0 cuts of which 0 were active after adding rounds of cuts (0.000 seconds)\n",
      "\n",
      "Result - Optimal solution found\n",
      "\n",
      "Objective value:                27350.00000000\n",
      "Enumerated nodes:               0\n",
      "Total iterations:               6\n",
      "Time (CPU seconds):             0.01\n",
      "Time (Wallclock seconds):       0.02\n",
      "\n",
      "Total time (CPU seconds):       0.01   (Wallclock seconds):       0.02\n",
      "\n"
     ]
    }
   ],
   "source": [
    "# Solve the Optimization Problem\n",
    "JuMP.optimize!(m)"
   ]
  },
  {
   "cell_type": "code",
   "execution_count": 11,
   "metadata": {
    "ExecuteTime": {
     "end_time": "2022-01-25T12:29:05.493000+01:00",
     "start_time": "2022-01-25T11:29:05.136Z"
    }
   },
   "outputs": [
    {
     "name": "stdout",
     "output_type": "stream",
     "text": [
      "------------------------------------------\n",
      "Optimal Solutions:\n",
      "------------------------------------------\n",
      "xgETH = 0.0\n",
      "xkETH = 425.0\n",
      "xgTan = 0.0\n",
      "xkTan = 0.0\n",
      "xgNig = 550.0\n",
      "xkNig = 25.000000000000025\n",
      "------------------------------------------\n",
      "Optimal objective function value z* = Y 27350.0\n"
     ]
    }
   ],
   "source": [
    "# Print the Optimal Solutions obtained\n",
    "\n",
    "println(\"------------------------------------------\")\n",
    "println(\"Optimal Solutions:\")\n",
    "println(\"------------------------------------------\")\n",
    "println(\"xgETH = \", JuMP.value(xgEth))\n",
    "println(\"xkETH = \", JuMP.value(xkEth))\n",
    "println(\"xgTan = \", JuMP.value(xgTan))\n",
    "println(\"xkTan = \", JuMP.value(xkTan))\n",
    "println(\"xgNig = \", JuMP.value(xgNig))\n",
    "println(\"xkNig = \", JuMP.value(xkNig))\n",
    "println(\"------------------------------------------\")\n",
    "println(\"Optimal objective function value z* = Y \", JuMP.objective_value(m))"
   ]
  }
 ],
 "metadata": {
  "celltoolbar": "Slideshow",
  "kernelspec": {
   "display_name": "Julia 1.7.1",
   "language": "julia",
   "name": "julia-1.7"
  },
  "language_info": {
   "file_extension": ".jl",
   "mimetype": "application/julia",
   "name": "julia",
   "version": "1.7.1"
  },
  "varInspector": {
   "cols": {
    "lenName": 16,
    "lenType": 16,
    "lenVar": 40
   },
   "kernels_config": {
    "python": {
     "delete_cmd_postfix": "",
     "delete_cmd_prefix": "del ",
     "library": "var_list.py",
     "varRefreshCmd": "print(var_dic_list())"
    },
    "r": {
     "delete_cmd_postfix": ") ",
     "delete_cmd_prefix": "rm(",
     "library": "var_list.r",
     "varRefreshCmd": "cat(var_dic_list()) "
    }
   },
   "types_to_exclude": [
    "module",
    "function",
    "builtin_function_or_method",
    "instance",
    "_Feature"
   ],
   "window_display": false
  }
 },
 "nbformat": 4,
 "nbformat_minor": 2
}
