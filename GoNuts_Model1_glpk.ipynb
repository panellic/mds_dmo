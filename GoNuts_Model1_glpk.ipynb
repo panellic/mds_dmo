{
 "cells": [
  {
   "cell_type": "markdown",
   "metadata": {},
   "source": [
    "# Progetto GoNuts - Decision Making\n",
    "## Linear programs\n",
    "### Model 1"
   ]
  },
  {
   "cell_type": "code",
   "execution_count": null,
   "metadata": {},
   "outputs": [],
   "source": [
    "#using Pkg\n",
    "#Pkg.add(\"GLPK\")"
   ]
  },
  {
   "cell_type": "code",
   "execution_count": 1,
   "metadata": {},
   "outputs": [],
   "source": [
    "using JuMP\n",
    "using GLPK"
   ]
  },
  {
   "cell_type": "code",
   "execution_count": 2,
   "metadata": {},
   "outputs": [
    {
     "data": {
      "text/plain": [
       "A JuMP Model\n",
       "Feasibility problem with:\n",
       "Variables: 0\n",
       "Model mode: AUTOMATIC\n",
       "CachingOptimizer state: EMPTY_OPTIMIZER\n",
       "Solver name: GLPK"
      ]
     },
     "execution_count": 2,
     "metadata": {},
     "output_type": "execute_result"
    }
   ],
   "source": [
    "m = Model(GLPK.Optimizer)"
   ]
  },
  {
   "cell_type": "code",
   "execution_count": 3,
   "metadata": {
    "scrolled": true
   },
   "outputs": [
    {
     "data": {
      "text/latex": [
       "$$ xkNig $$"
      ],
      "text/plain": [
       "xkNig"
      ]
     },
     "execution_count": 3,
     "metadata": {},
     "output_type": "execute_result"
    }
   ],
   "source": [
    "# List of variables\n",
    "@variable(m, xgEth >=0)\n",
    "@variable(m, xkEth >=0)\n",
    "@variable(m, xgTan >=0)\n",
    "@variable(m, xkTan >=0)\n",
    "@variable(m, xgNig >=0)\n",
    "@variable(m, xkNig >=0)"
   ]
  },
  {
   "cell_type": "code",
   "execution_count": 4,
   "metadata": {},
   "outputs": [
    {
     "data": {
      "text/latex": [
       "$$ \\begin{aligned}\n",
       "\\text{feasibility}\\\\\n",
       "\\text{Subject to} \\quad & xgEth \\geq 0.0\\\\\n",
       " & xkEth \\geq 0.0\\\\\n",
       " & xgTan \\geq 0.0\\\\\n",
       " & xkTan \\geq 0.0\\\\\n",
       " & xgNig \\geq 0.0\\\\\n",
       " & xkNig \\geq 0.0\\\\\n",
       "\\end{aligned} $$"
      ]
     },
     "metadata": {},
     "output_type": "display_data"
    }
   ],
   "source": [
    "print(m)"
   ]
  },
  {
   "cell_type": "markdown",
   "metadata": {},
   "source": [
    " - Objective Function:\n",
    "\n",
    "minimize z = Cost = $$ 21xgEth + 22,5xkEth + 22,5xgTan + 24,5xkTan + 23xgNig + 25,5xkNig $$\n",
    "\n",
    " - Compact formula:\n",
    "\n",
    "$$\\sum_{i} \\sum_{j} c_{ij}x_{ij}$$"
   ]
  },
  {
   "cell_type": "code",
   "execution_count": 7,
   "metadata": {},
   "outputs": [
    {
     "data": {
      "text/latex": [
       "constraint3 : $ xgNig + xkNig \\leq 750.0 $"
      ],
      "text/plain": [
       "constraint3 : xgNig + xkNig ≤ 750.0"
      ]
     },
     "execution_count": 7,
     "metadata": {},
     "output_type": "execute_result"
    }
   ],
   "source": [
    "# List of Costrains for Plant Capacity\n",
    "@constraint(m, constraint1, xgEth + xkEth <= 425)\n",
    "@constraint(m, constraint2, xgTan + xkTan <= 400)\n",
    "@constraint(m, constraint3, xgNig + xkNig <= 750)"
   ]
  },
  {
   "cell_type": "code",
   "execution_count": 8,
   "metadata": {},
   "outputs": [
    {
     "data": {
      "text/latex": [
       "constraint5 : $ xkEth + xkTan + xkNig \\geq 450.0 $"
      ],
      "text/plain": [
       "constraint5 : xkEth + xkTan + xkNig ≥ 450.0"
      ]
     },
     "execution_count": 8,
     "metadata": {},
     "output_type": "execute_result"
    }
   ],
   "source": [
    "# List of Costrains for Product Demand\n",
    "@constraint(m, constraint4, xgEth + xgTan + xgNig  >= 550)\n",
    "@constraint(m, constraint5, xkEth + xkTan + xkNig  >= 450)"
   ]
  },
  {
   "cell_type": "code",
   "execution_count": 9,
   "metadata": {},
   "outputs": [
    {
     "data": {
      "text/latex": [
       "$$ 21 xgEth + 22.5 xkEth + 22.5 xgTan + 24.5 xkTan + 23 xgNig + 25.5 xkNig $$"
      ],
      "text/plain": [
       "21 xgEth + 22.5 xkEth + 22.5 xgTan + 24.5 xkTan + 23 xgNig + 25.5 xkNig"
      ]
     },
     "execution_count": 9,
     "metadata": {},
     "output_type": "execute_result"
    }
   ],
   "source": [
    "# Set the objective \n",
    "@objective(m, Min, 21xgEth + 22.5xkEth + 22.5xgTan + 24.5xkTan + 23xgNig + 25.5xkNig)"
   ]
  },
  {
   "cell_type": "code",
   "execution_count": 10,
   "metadata": {},
   "outputs": [
    {
     "data": {
      "text/latex": [
       "$$ \\begin{aligned}\n",
       "\\min\\quad & 21 xgEth + 22.5 xkEth + 22.5 xgTan + 24.5 xkTan + 23 xgNig + 25.5 xkNig\\\\\n",
       "\\text{Subject to} \\quad & xgEth + xgTan + xgNig \\geq 550.0\\\\\n",
       " & xkEth + xkTan + xkNig \\geq 450.0\\\\\n",
       " & xgEth + xkEth \\leq 425.0\\\\\n",
       " & xgTan + xkTan \\leq 400.0\\\\\n",
       " & xgNig + xkNig \\leq 750.0\\\\\n",
       " & xgEth \\geq 0.0\\\\\n",
       " & xkEth \\geq 0.0\\\\\n",
       " & xgTan \\geq 0.0\\\\\n",
       " & xkTan \\geq 0.0\\\\\n",
       " & xgNig \\geq 0.0\\\\\n",
       " & xkNig \\geq 0.0\\\\\n",
       "\\end{aligned} $$"
      ]
     },
     "metadata": {},
     "output_type": "display_data"
    }
   ],
   "source": [
    "# Printing the prepared optimization model\n",
    "print(m)"
   ]
  },
  {
   "cell_type": "code",
   "execution_count": 11,
   "metadata": {},
   "outputs": [],
   "source": [
    "# Solving the optimization problem\n",
    "JuMP.optimize!(m)"
   ]
  },
  {
   "cell_type": "code",
   "execution_count": 13,
   "metadata": {},
   "outputs": [
    {
     "name": "stdout",
     "output_type": "stream",
     "text": [
      "Optimal Solutions:\n",
      "xgETH = 0.0\n",
      "xkETH = 425.0\n",
      "xgTan = 375.0\n",
      "xkTan = 25.0\n",
      "xgNig = 175.0\n",
      "xkNig = 0.0\n"
     ]
    }
   ],
   "source": [
    "# Printing the optimal solutions obtained\n",
    "println(\"Optimal Solutions:\")\n",
    "println(\"xgETH = \", JuMP.value(xgEth))\n",
    "println(\"xkETH = \", JuMP.value(xkEth))\n",
    "println(\"xgTan = \", JuMP.value(xgTan))\n",
    "println(\"xkTan = \", JuMP.value(xkTan))\n",
    "println(\"xgNig = \", JuMP.value(xgNig))\n",
    "println(\"xkNig = \", JuMP.value(xkNig))"
   ]
  },
  {
   "cell_type": "code",
   "execution_count": null,
   "metadata": {},
   "outputs": [],
   "source": []
  }
 ],
 "metadata": {
  "kernelspec": {
   "display_name": "Julia 1.7.1",
   "language": "julia",
   "name": "julia-1.7"
  },
  "language_info": {
   "file_extension": ".jl",
   "mimetype": "application/julia",
   "name": "julia",
   "version": "1.7.1"
  },
  "varInspector": {
   "cols": {
    "lenName": 16,
    "lenType": 16,
    "lenVar": 40
   },
   "kernels_config": {
    "python": {
     "delete_cmd_postfix": "",
     "delete_cmd_prefix": "del ",
     "library": "var_list.py",
     "varRefreshCmd": "print(var_dic_list())"
    },
    "r": {
     "delete_cmd_postfix": ") ",
     "delete_cmd_prefix": "rm(",
     "library": "var_list.r",
     "varRefreshCmd": "cat(var_dic_list()) "
    }
   },
   "types_to_exclude": [
    "module",
    "function",
    "builtin_function_or_method",
    "instance",
    "_Feature"
   ],
   "window_display": false
  }
 },
 "nbformat": 4,
 "nbformat_minor": 2
}
