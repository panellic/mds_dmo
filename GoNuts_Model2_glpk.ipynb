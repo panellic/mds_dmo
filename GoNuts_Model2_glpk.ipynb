{
 "cells": [
  {
   "cell_type": "markdown",
   "metadata": {},
   "source": [
    "# Progetto GoNuts - Decision Making\n",
    "## Linear programs\n",
    "### Model 2"
   ]
  },
  {
   "cell_type": "markdown",
   "metadata": {},
   "source": [
    " - Objective Function to minimize:\n",
    "\n",
    "$$ z = 21xgEth + 22,5xkEth + 22,5xgTan + 24,5xkTan + 23xgNig + 25,5xkNig + 1500yEth + 2000yTan + 3000yNig $$\n",
    "\n",
    " - Compact formula:\n",
    "\n",
    "$$\\sum_{i} \\sum_{j} c_{ij}x_{ij} + \\sum_{i} f_{i}y_{i}$$"
   ]
  },
  {
   "cell_type": "code",
   "execution_count": 32,
   "metadata": {},
   "outputs": [],
   "source": [
    "# Solver used\n",
    "\n",
    "using JuMP\n",
    "using GLPK"
   ]
  },
  {
   "cell_type": "code",
   "execution_count": 33,
   "metadata": {},
   "outputs": [
    {
     "data": {
      "text/plain": [
       "A JuMP Model\n",
       "Feasibility problem with:\n",
       "Variables: 0\n",
       "Model mode: AUTOMATIC\n",
       "CachingOptimizer state: EMPTY_OPTIMIZER\n",
       "Solver name: GLPK"
      ]
     },
     "execution_count": 33,
     "metadata": {},
     "output_type": "execute_result"
    }
   ],
   "source": [
    "# Define Model\n",
    "\n",
    "m = Model(GLPK.Optimizer)"
   ]
  },
  {
   "cell_type": "code",
   "execution_count": 34,
   "metadata": {
    "scrolled": true
   },
   "outputs": [
    {
     "data": {
      "text/latex": [
       "$$ yNig $$"
      ],
      "text/plain": [
       "yNig"
      ]
     },
     "execution_count": 34,
     "metadata": {},
     "output_type": "execute_result"
    }
   ],
   "source": [
    "# List of variables\n",
    "\n",
    "@variable(m, xgEth >=0)\n",
    "@variable(m, xkEth >=0)\n",
    "@variable(m, xgTan >=0)\n",
    "@variable(m, xkTan >=0)\n",
    "@variable(m, xgNig >=0)\n",
    "@variable(m, xkNig >=0)\n",
    "\n",
    "@variable(m, yEth, Bin)\n",
    "@variable(m, yTan, Bin)\n",
    "@variable(m, yNig, Bin)"
   ]
  },
  {
   "cell_type": "code",
   "execution_count": 35,
   "metadata": {},
   "outputs": [
    {
     "data": {
      "text/latex": [
       "constraint3 : $ xgNig + xkNig \\leq 750.0 $"
      ],
      "text/plain": [
       "constraint3 : xgNig + xkNig <= 750.0"
      ]
     },
     "execution_count": 35,
     "metadata": {},
     "output_type": "execute_result"
    }
   ],
   "source": [
    "# List of Costrains for Plant Capacity\n",
    "\n",
    "@constraint(m, constraint1, xgEth + xkEth <= 425)\n",
    "@constraint(m, constraint2, xgTan + xkTan <= 400)\n",
    "@constraint(m, constraint3, xgNig + xkNig <= 750)"
   ]
  },
  {
   "cell_type": "code",
   "execution_count": 36,
   "metadata": {},
   "outputs": [
    {
     "data": {
      "text/latex": [
       "constraint5 : $ xkEth + xkTan + xkNig \\geq 450.0 $"
      ],
      "text/plain": [
       "constraint5 : xkEth + xkTan + xkNig >= 450.0"
      ]
     },
     "execution_count": 36,
     "metadata": {},
     "output_type": "execute_result"
    }
   ],
   "source": [
    "# List of Costrains for Product Demand\n",
    "\n",
    "@constraint(m, constraint4, xgEth + xgTan + xgNig  >= 550)\n",
    "@constraint(m, constraint5, xkEth + xkTan + xkNig  >= 450)"
   ]
  },
  {
   "cell_type": "code",
   "execution_count": 37,
   "metadata": {},
   "outputs": [
    {
     "data": {
      "text/latex": [
       "constraint8 : $ xgNig + xkNig - 750 yNig \\leq 0.0 $"
      ],
      "text/plain": [
       "constraint8 : xgNig + xkNig - 750 yNig <= 0.0"
      ]
     },
     "execution_count": 37,
     "metadata": {},
     "output_type": "execute_result"
    }
   ],
   "source": [
    "# List of Constrains for Production Plants\n",
    "\n",
    "@constraint(m, constraint6, xgEth + xkEth -425yEth <= 0)\n",
    "@constraint(m, constraint7, xgTan + xkTan -400yTan <= 0)\n",
    "@constraint(m, constraint8, xgNig + xkNig -750yNig <= 0)"
   ]
  },
  {
   "cell_type": "code",
   "execution_count": 38,
   "metadata": {},
   "outputs": [
    {
     "data": {
      "text/latex": [
       "$$ 21 xgEth + 22.5 xkEth + 22.5 xgTan + 24.5 xkTan + 23 xgNig + 25.5 xkNig + 1500 yEth + 2000 yTan + 3000 yNig $$"
      ],
      "text/plain": [
       "21 xgEth + 22.5 xkEth + 22.5 xgTan + 24.5 xkTan + 23 xgNig + 25.5 xkNig + 1500 yEth + 2000 yTan + 3000 yNig"
      ]
     },
     "execution_count": 38,
     "metadata": {},
     "output_type": "execute_result"
    }
   ],
   "source": [
    "# Set the Objective Function\n",
    "\n",
    "@objective(m, Min, 21xgEth + 22.5xkEth + 22.5xgTan + 24.5xkTan + 23xgNig + 25.5xkNig + 1500yEth + 2000yTan + 3000yNig)"
   ]
  },
  {
   "cell_type": "code",
   "execution_count": 39,
   "metadata": {},
   "outputs": [
    {
     "data": {
      "text/latex": [
       "$$ \\begin{aligned}\n",
       "\\min\\quad & 21 xgEth + 22.5 xkEth + 22.5 xgTan + 24.5 xkTan + 23 xgNig + 25.5 xkNig + 1500 yEth + 2000 yTan + 3000 yNig\\\\\n",
       "\\text{Subject to} \\quad & xgEth + xgTan + xgNig \\geq 550.0\\\\\n",
       " & xkEth + xkTan + xkNig \\geq 450.0\\\\\n",
       " & xgEth + xkEth \\leq 425.0\\\\\n",
       " & xgTan + xkTan \\leq 400.0\\\\\n",
       " & xgNig + xkNig \\leq 750.0\\\\\n",
       " & xgEth + xkEth - 425 yEth \\leq 0.0\\\\\n",
       " & xgTan + xkTan - 400 yTan \\leq 0.0\\\\\n",
       " & xgNig + xkNig - 750 yNig \\leq 0.0\\\\\n",
       " & xgEth \\geq 0.0\\\\\n",
       " & xkEth \\geq 0.0\\\\\n",
       " & xgTan \\geq 0.0\\\\\n",
       " & xkTan \\geq 0.0\\\\\n",
       " & xgNig \\geq 0.0\\\\\n",
       " & xkNig \\geq 0.0\\\\\n",
       " & yEth \\in \\{0, 1\\}\\\\\n",
       " & yTan \\in \\{0, 1\\}\\\\\n",
       " & yNig \\in \\{0, 1\\}\\\\\n",
       "\\end{aligned} $$"
      ]
     },
     "metadata": {},
     "output_type": "display_data"
    }
   ],
   "source": [
    "# Print the prepared optimization model\n",
    "\n",
    "print(m)"
   ]
  },
  {
   "cell_type": "code",
   "execution_count": 40,
   "metadata": {},
   "outputs": [],
   "source": [
    "# Solve the Optimization Problem\n",
    "\n",
    "JuMP.optimize!(m)"
   ]
  },
  {
   "cell_type": "code",
   "execution_count": 43,
   "metadata": {},
   "outputs": [
    {
     "name": "stdout",
     "output_type": "stream",
     "text": [
      "------------------------------------------\n",
      "Optimal Solutions:\n",
      "------------------------------------------\n",
      "xgETH = 0.0\n",
      "xkETH = 425.0\n",
      "xgTan = 0.0\n",
      "xkTan = 0.0\n",
      "xgNig = 550.0\n",
      "xkNig = 25.0\n",
      "------------------------------------------\n",
      "Optimal objective function value = 27350.0\n"
     ]
    }
   ],
   "source": [
    "# Print the Optimal Solutions obtained\n",
    "\n",
    "println(\"------------------------------------------\")\n",
    "println(\"Optimal Solutions:\")\n",
    "println(\"------------------------------------------\")\n",
    "println(\"xgETH = \", JuMP.value(xgEth))\n",
    "println(\"xkETH = \", JuMP.value(xkEth))\n",
    "println(\"xgTan = \", JuMP.value(xgTan))\n",
    "println(\"xkTan = \", JuMP.value(xkTan))\n",
    "println(\"xgNig = \", JuMP.value(xgNig))\n",
    "println(\"xkNig = \", JuMP.value(xkNig))\n",
    "println(\"------------------------------------------\")\n",
    "println(\"Optimal objective function value = \", JuMP.objective_value(m))"
   ]
  }
 ],
 "metadata": {
  "kernelspec": {
   "display_name": "Julia 1.7.1",
   "language": "julia",
   "name": "julia-1.7"
  },
  "language_info": {
   "file_extension": ".jl",
   "mimetype": "application/julia",
   "name": "julia",
   "version": "1.7.1"
  },
  "varInspector": {
   "cols": {
    "lenName": 16,
    "lenType": 16,
    "lenVar": 40
   },
   "kernels_config": {
    "python": {
     "delete_cmd_postfix": "",
     "delete_cmd_prefix": "del ",
     "library": "var_list.py",
     "varRefreshCmd": "print(var_dic_list())"
    },
    "r": {
     "delete_cmd_postfix": ") ",
     "delete_cmd_prefix": "rm(",
     "library": "var_list.r",
     "varRefreshCmd": "cat(var_dic_list()) "
    }
   },
   "types_to_exclude": [
    "module",
    "function",
    "builtin_function_or_method",
    "instance",
    "_Feature"
   ],
   "window_display": false
  }
 },
 "nbformat": 4,
 "nbformat_minor": 2
}
