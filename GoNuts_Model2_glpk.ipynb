{
 "cells": [
  {
   "cell_type": "markdown",
   "metadata": {
    "slideshow": {
     "slide_type": "slide"
    }
   },
   "source": [
    "# Progetto GoNuts - Decision Making\n",
    "## Mixed Linear programming\n",
    "### Model 2 - with GLPK optimizer"
   ]
  },
  {
   "cell_type": "markdown",
   "metadata": {
    "slideshow": {
     "slide_type": "slide"
    }
   },
   "source": [
    " - Objective Function to minimize:\n",
    "\n",
    "$$ z = 21xgEth + 22,5xkEth + 22,5xgTan + 24,5xkTan + 23xgNig + 25,5xkNig + 1500yEth + 2000yTan + 3000yNig $$\n",
    "\n",
    " - Compact formula:\n",
    "\n",
    "$$ z = \\sum_{i} \\sum_{j} c_{ij}x_{ij} + \\sum_{i} f_{i}y_{i}$$"
   ]
  },
  {
   "cell_type": "code",
   "execution_count": 1,
   "metadata": {
    "ExecuteTime": {
     "end_time": "2022-01-24T22:05:41.282000+01:00",
     "start_time": "2022-01-24T21:05:37.778Z"
    },
    "slideshow": {
     "slide_type": "slide"
    }
   },
   "outputs": [],
   "source": [
    "# Solver used\n",
    "using JuMP\n",
    "using GLPK"
   ]
  },
  {
   "cell_type": "code",
   "execution_count": 2,
   "metadata": {
    "ExecuteTime": {
     "end_time": "2022-01-24T22:05:42.907000+01:00",
     "start_time": "2022-01-24T21:05:40.886Z"
    },
    "slideshow": {
     "slide_type": "slide"
    }
   },
   "outputs": [
    {
     "data": {
      "text/plain": [
       "A JuMP Model\n",
       "Feasibility problem with:\n",
       "Variables: 0\n",
       "Model mode: AUTOMATIC\n",
       "CachingOptimizer state: EMPTY_OPTIMIZER\n",
       "Solver name: GLPK"
      ]
     },
     "execution_count": 2,
     "metadata": {},
     "output_type": "execute_result"
    }
   ],
   "source": [
    "# Define Model\n",
    "m = Model(GLPK.Optimizer)"
   ]
  },
  {
   "cell_type": "code",
   "execution_count": 3,
   "metadata": {
    "ExecuteTime": {
     "end_time": "2022-01-24T22:05:47.183000+01:00",
     "start_time": "2022-01-24T21:05:45.852Z"
    },
    "scrolled": true,
    "slideshow": {
     "slide_type": "slide"
    }
   },
   "outputs": [
    {
     "data": {
      "text/latex": [
       "$$ yNig $$"
      ],
      "text/plain": [
       "yNig"
      ]
     },
     "execution_count": 3,
     "metadata": {},
     "output_type": "execute_result"
    }
   ],
   "source": [
    "# List of variables\n",
    "#Numeric\n",
    "@variable(m, xgEth >=0)\n",
    "@variable(m, xkEth >=0)\n",
    "@variable(m, xgTan >=0)\n",
    "@variable(m, xkTan >=0)\n",
    "@variable(m, xgNig >=0)\n",
    "@variable(m, xkNig >=0)\n",
    "#Binary\n",
    "@variable(m, yEth, Bin)\n",
    "@variable(m, yTan, Bin)\n",
    "@variable(m, yNig, Bin)"
   ]
  },
  {
   "cell_type": "code",
   "execution_count": 4,
   "metadata": {
    "ExecuteTime": {
     "end_time": "2022-01-24T22:05:52.227000+01:00",
     "start_time": "2022-01-24T21:05:50.691Z"
    },
    "slideshow": {
     "slide_type": "slide"
    }
   },
   "outputs": [
    {
     "data": {
      "text/latex": [
       "constraint3 : $ xgNig + xkNig \\leq 750.0 $"
      ],
      "text/plain": [
       "constraint3 : xgNig + xkNig ≤ 750.0"
      ]
     },
     "execution_count": 4,
     "metadata": {},
     "output_type": "execute_result"
    }
   ],
   "source": [
    "# List of Costrains for Plant Capacity\n",
    "@constraint(m, constraint1, xgEth + xkEth <= 425)\n",
    "@constraint(m, constraint2, xgTan + xkTan <= 400)\n",
    "@constraint(m, constraint3, xgNig + xkNig <= 750)\n",
    "# List of Costrains for Product Demand\n",
    "@constraint(m, constraint4, xgEth + xgTan + xgNig  >= 550)\n",
    "@constraint(m, constraint5, xkEth + xkTan + xkNig  >= 450)\n",
    "# List of Constrains for Production Plants\n",
    "@constraint(m, constraint6, xgEth + xkEth -425yEth <= 0)\n",
    "@constraint(m, constraint7, xgTan + xkTan -400yTan <= 0)\n",
    "@constraint(m, constraint8, xgNig + xkNig -750yNig <= 0)\n"
   ]
  },
  {
   "cell_type": "code",
   "execution_count": 7,
   "metadata": {
    "ExecuteTime": {
     "end_time": "2022-01-24T22:06:03.836000+01:00",
     "start_time": "2022-01-24T21:06:02.787Z"
    },
    "slideshow": {
     "slide_type": "slide"
    }
   },
   "outputs": [
    {
     "data": {
      "text/latex": [
       "$$ 21 xgEth + 22.5 xkEth + 22.5 xgTan + 24.5 xkTan + 23 xgNig + 25.5 xkNig + 1500 yEth + 2000 yTan + 3000 yNig $$"
      ],
      "text/plain": [
       "21 xgEth + 22.5 xkEth + 22.5 xgTan + 24.5 xkTan + 23 xgNig + 25.5 xkNig + 1500 yEth + 2000 yTan + 3000 yNig"
      ]
     },
     "execution_count": 7,
     "metadata": {},
     "output_type": "execute_result"
    }
   ],
   "source": [
    "# Set the Objective Function\n",
    "@objective(m, Min, 21xgEth + 22.5xkEth + 22.5xgTan + 24.5xkTan + 23xgNig + 25.5xkNig + 1500yEth + 2000yTan + 3000yNig)"
   ]
  },
  {
   "cell_type": "code",
   "execution_count": 8,
   "metadata": {
    "ExecuteTime": {
     "end_time": "2022-01-24T22:06:09.571000+01:00",
     "start_time": "2022-01-24T21:06:08.562Z"
    },
    "slideshow": {
     "slide_type": "slide"
    }
   },
   "outputs": [
    {
     "data": {
      "text/latex": [
       "$$ \\begin{aligned}\n",
       "\\min\\quad & 21 xgEth + 22.5 xkEth + 22.5 xgTan + 24.5 xkTan + 23 xgNig + 25.5 xkNig + 1500 yEth + 2000 yTan + 3000 yNig\\\\\n",
       "\\text{Subject to} \\quad & xgEth + xgTan + xgNig \\geq 550.0\\\\\n",
       " & xkEth + xkTan + xkNig \\geq 450.0\\\\\n",
       " & xgEth + xkEth \\leq 425.0\\\\\n",
       " & xgTan + xkTan \\leq 400.0\\\\\n",
       " & xgNig + xkNig \\leq 750.0\\\\\n",
       " & xgEth + xkEth - 425 yEth \\leq 0.0\\\\\n",
       " & xgTan + xkTan - 400 yTan \\leq 0.0\\\\\n",
       " & xgNig + xkNig - 750 yNig \\leq 0.0\\\\\n",
       " & xgEth \\geq 0.0\\\\\n",
       " & xkEth \\geq 0.0\\\\\n",
       " & xgTan \\geq 0.0\\\\\n",
       " & xkTan \\geq 0.0\\\\\n",
       " & xgNig \\geq 0.0\\\\\n",
       " & xkNig \\geq 0.0\\\\\n",
       " & yEth \\in \\{0, 1\\}\\\\\n",
       " & yTan \\in \\{0, 1\\}\\\\\n",
       " & yNig \\in \\{0, 1\\}\\\\\n",
       "\\end{aligned} $$"
      ]
     },
     "metadata": {},
     "output_type": "display_data"
    }
   ],
   "source": [
    "# Print the prepared optimization model\n",
    "print(m)"
   ]
  },
  {
   "cell_type": "code",
   "execution_count": 9,
   "metadata": {
    "ExecuteTime": {
     "end_time": "2022-01-24T22:06:15.969000+01:00",
     "start_time": "2022-01-24T21:06:14.223Z"
    },
    "slideshow": {
     "slide_type": "slide"
    }
   },
   "outputs": [],
   "source": [
    "# Solve the Optimization Problem\n",
    "JuMP.optimize!(m)"
   ]
  },
  {
   "cell_type": "code",
   "execution_count": 13,
   "metadata": {
    "ExecuteTime": {
     "end_time": "2022-01-24T22:08:29.536000+01:00",
     "start_time": "2022-01-24T21:08:29.526Z"
    },
    "slideshow": {
     "slide_type": "slide"
    }
   },
   "outputs": [
    {
     "name": "stdout",
     "output_type": "stream",
     "text": [
      "------------------------------------------\n",
      "Optimal Solutions:\n",
      "------------------------------------------\n",
      "xgETH = 0.0\n",
      "xkETH = 425.0\n",
      "xgTan = 0.0\n",
      "xkTan = 0.0\n",
      "xgNig = 550.0\n",
      "xkNig = 25.0\n",
      "------------------------------------------\n",
      "Optimal objective function value z* = Y 27350.0\n"
     ]
    }
   ],
   "source": [
    "# Print the Optimal Solutions obtained\n",
    "\n",
    "println(\"------------------------------------------\")\n",
    "println(\"Optimal Solutions:\")\n",
    "println(\"------------------------------------------\")\n",
    "println(\"xgETH = \", JuMP.value(xgEth))\n",
    "println(\"xkETH = \", JuMP.value(xkEth))\n",
    "println(\"xgTan = \", JuMP.value(xgTan))\n",
    "println(\"xkTan = \", JuMP.value(xkTan))\n",
    "println(\"xgNig = \", JuMP.value(xgNig))\n",
    "println(\"xkNig = \", JuMP.value(xkNig))\n",
    "println(\"------------------------------------------\")\n",
    "println(\"Optimal objective function value z* = Y \", JuMP.objective_value(m))"
   ]
  }
 ],
 "metadata": {
  "celltoolbar": "Slideshow",
  "kernelspec": {
   "display_name": "Julia 1.7.1",
   "language": "julia",
   "name": "julia-1.7"
  },
  "language_info": {
   "file_extension": ".jl",
   "mimetype": "application/julia",
   "name": "julia",
   "version": "1.7.1"
  },
  "varInspector": {
   "cols": {
    "lenName": 16,
    "lenType": 16,
    "lenVar": 40
   },
   "kernels_config": {
    "python": {
     "delete_cmd_postfix": "",
     "delete_cmd_prefix": "del ",
     "library": "var_list.py",
     "varRefreshCmd": "print(var_dic_list())"
    },
    "r": {
     "delete_cmd_postfix": ") ",
     "delete_cmd_prefix": "rm(",
     "library": "var_list.r",
     "varRefreshCmd": "cat(var_dic_list()) "
    }
   },
   "types_to_exclude": [
    "module",
    "function",
    "builtin_function_or_method",
    "instance",
    "_Feature"
   ],
   "window_display": false
  }
 },
 "nbformat": 4,
 "nbformat_minor": 2
}
