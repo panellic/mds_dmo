{
 "cells": [
  {
   "cell_type": "code",
   "execution_count": 3,
   "id": "06c4b6d3",
   "metadata": {
    "ExecuteTime": {
     "end_time": "2022-01-15T15:21:25.748000+01:00",
     "start_time": "2022-01-15T14:21:22.884Z"
    }
   },
   "outputs": [
    {
     "name": "stderr",
     "output_type": "stream",
     "text": [
      "\u001b[32m\u001b[1m   Resolving\u001b[22m\u001b[39m package versions...\n",
      "\u001b[32m\u001b[1m  No Changes\u001b[22m\u001b[39m to `~/opt/anaconda3/share/julia/environments/anaconda3/Project.toml`\n",
      "\u001b[32m\u001b[1m  No Changes\u001b[22m\u001b[39m to `~/opt/anaconda3/share/julia/environments/anaconda3/Manifest.toml`\n"
     ]
    }
   ],
   "source": [
    "using Pkg\n",
    "Pkg.add(\"Clp\")"
   ]
  },
  {
   "cell_type": "code",
   "execution_count": 4,
   "id": "cc64984a",
   "metadata": {
    "ExecuteTime": {
     "end_time": "2022-01-15T15:21:41.279000+01:00",
     "start_time": "2022-01-15T14:21:41.153Z"
    }
   },
   "outputs": [],
   "source": [
    "using JuMP\n",
    "using Clp"
   ]
  },
  {
   "cell_type": "code",
   "execution_count": 5,
   "id": "69fd8dc5",
   "metadata": {
    "ExecuteTime": {
     "end_time": "2022-01-15T15:22:36.685000+01:00",
     "start_time": "2022-01-15T14:22:26.153Z"
    }
   },
   "outputs": [
    {
     "data": {
      "text/latex": [
       "$$ \\begin{aligned}\n",
       "\\min\\quad & 21 xgEth + 22.5 xkEth + 22.5 xgTan + 24.5 xkTan + 23 xgNig + 25.5 xkNig\\\\\n",
       "\\text{Subject to} \\quad & xgEth + xgTan + xgNig \\geq 550.0\\\\\n",
       " & xkEth + xkTan + xkNig \\geq 450.0\\\\\n",
       " & xgEth + xkEth \\leq 425.0\\\\\n",
       " & xgTan + xkTan \\leq 400.0\\\\\n",
       " & xgNig + xkNig \\leq 750.0\\\\\n",
       " & xgEth \\geq 0.0\\\\\n",
       " & xkEth \\geq 0.0\\\\\n",
       " & xgTan \\geq 0.0\\\\\n",
       " & xkTan \\geq 0.0\\\\\n",
       " & xgNig \\geq 0.0\\\\\n",
       " & xkNig \\geq 0.0\\\\\n",
       "\\end{aligned} $$"
      ]
     },
     "metadata": {},
     "output_type": "display_data"
    },
    {
     "name": "stdout",
     "output_type": "stream",
     "text": [
      "Optimal Solutions:\n",
      "xgETH = 0.0\n",
      "xkETH = 425.0\n",
      "xgTan = 375.0\n",
      "xkTan = 25.0\n",
      "xgNig = 175.0\n",
      "xkNig = 0.0\n",
      "Coin0506I Presolve 5 (0) rows, 6 (0) columns and 12 (0) elements\n",
      "Clp0006I 0  Obj 0 Primal inf 1000 (2)\n",
      "Clp0006I 5  Obj 22637.5\n",
      "Clp0000I Optimal - objective value 22637.5\n",
      "Clp0032I Optimal objective 22637.5 - 5 iterations time 0.002\n"
     ]
    }
   ],
   "source": [
    "\n",
    "# Preparing an optimization model\n",
    "m = Model(Clp.Optimizer)\n",
    "\n",
    "# Declaring variables\n",
    "# List of variables\n",
    "@variable(m, xgEth >=0)\n",
    "@variable(m, xkEth >=0)\n",
    "@variable(m, xgTan >=0)\n",
    "@variable(m, xkTan >=0)\n",
    "@variable(m, xgNig >=0)\n",
    "@variable(m, xkNig >=0)\n",
    "\n",
    "\n",
    "# Setting the objective\n",
    "# List of Costrains for Plant Capacity\n",
    "@constraint(m, constraint1, xgEth + xkEth <= 425)\n",
    "@constraint(m, constraint2, xgTan + xkTan <= 400)\n",
    "@constraint(m, constraint3, xgNig + xkNig <= 750)\n",
    "\n",
    "# List of Costrains for Product Demand\n",
    "@constraint(m, constraint4, xgEth + xgTan + xgNig  >= 550)\n",
    "@constraint(m, constraint5, xkEth + xkTan + xkNig  >= 450)\n",
    "\n",
    "# Set the objective \n",
    "@objective(m, Min, 21xgEth + 22.5xkEth + 22.5xgTan + 24.5xkTan + 23xgNig + 25.5xkNig)\n",
    "\n",
    "# Printing the prepared optimization model\n",
    "print(m)\n",
    "\n",
    "# Solving the optimization problem\n",
    "JuMP.optimize!(m)\n",
    "\n",
    "# Printing the optimal solutions obtained\n",
    "println(\"Optimal Solutions:\")\n",
    "println(\"xgETH = \", JuMP.value(xgEth))\n",
    "println(\"xkETH = \", JuMP.value(xkEth))\n",
    "println(\"xgTan = \", JuMP.value(xgTan))\n",
    "println(\"xkTan = \", JuMP.value(xkTan))\n",
    "println(\"xgNig = \", JuMP.value(xgNig))\n",
    "println(\"xkNig = \", JuMP.value(xkNig))"
   ]
  },
  {
   "cell_type": "code",
   "execution_count": null,
   "id": "c7a90bd5",
   "metadata": {},
   "outputs": [],
   "source": []
  }
 ],
 "metadata": {
  "kernelspec": {
   "display_name": "Julia 1.7.1",
   "language": "julia",
   "name": "julia-1.7"
  },
  "language_info": {
   "file_extension": ".jl",
   "mimetype": "application/julia",
   "name": "julia",
   "version": "1.7.1"
  },
  "varInspector": {
   "cols": {
    "lenName": 16,
    "lenType": 16,
    "lenVar": 40
   },
   "kernels_config": {
    "python": {
     "delete_cmd_postfix": "",
     "delete_cmd_prefix": "del ",
     "library": "var_list.py",
     "varRefreshCmd": "print(var_dic_list())"
    },
    "r": {
     "delete_cmd_postfix": ") ",
     "delete_cmd_prefix": "rm(",
     "library": "var_list.r",
     "varRefreshCmd": "cat(var_dic_list()) "
    }
   },
   "types_to_exclude": [
    "module",
    "function",
    "builtin_function_or_method",
    "instance",
    "_Feature"
   ],
   "window_display": false
  }
 },
 "nbformat": 4,
 "nbformat_minor": 5
}
